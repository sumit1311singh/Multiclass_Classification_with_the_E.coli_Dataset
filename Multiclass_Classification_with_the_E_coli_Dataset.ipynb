{
  "nbformat": 4,
  "nbformat_minor": 0,
  "metadata": {
    "colab": {
      "name": "Multiclass_Classification_with_the_E.coli_Dataset.ipynb",
      "provenance": [],
      "authorship_tag": "ABX9TyOIWP1Ju4kGJuEq3MZZdA6r",
      "include_colab_link": true
    },
    "kernelspec": {
      "name": "python3",
      "display_name": "Python 3"
    },
    "language_info": {
      "name": "python"
    }
  },
  "cells": [
    {
      "cell_type": "markdown",
      "metadata": {
        "id": "view-in-github",
        "colab_type": "text"
      },
      "source": [
        "<a href=\"https://colab.research.google.com/github/sumit1311singh/Multiclass_Classification_with_the_E.coli_Dataset/blob/main/Multiclass_Classification_with_the_E_coli_Dataset.ipynb\" target=\"_parent\"><img src=\"https://colab.research.google.com/assets/colab-badge.svg\" alt=\"Open In Colab\"/></a>"
      ]
    },
    {
      "cell_type": "code",
      "metadata": {
        "id": "KarShI8aImnD"
      },
      "source": [
        "from pandas import read_csv\n",
        "from pandas import set_option\n",
        "from collections import Counter\n",
        "from matplotlib import pyplot\n",
        "from numpy import mean\n",
        "from numpy import std\n",
        "from sklearn.preprocessing import LabelEncoder\n",
        "from sklearn.model_selection import cross_val_score\n",
        "from sklearn.model_selection import RepeatedStratifiedKFold\n",
        "from sklearn.dummy import DummyClassifier"
      ],
      "execution_count": null,
      "outputs": []
    },
    {
      "cell_type": "code",
      "metadata": {
        "colab": {
          "base_uri": "https://localhost:8080/"
        },
        "id": "DtYocfHnIqXY",
        "outputId": "c89f4eb7-39d0-4a0a-ce7c-fc1d8b5caf8a"
      },
      "source": [
        "filename = '/content/ecoli.csv'\n",
        "\n",
        "df = read_csv(filename, header=None)\n",
        "\n",
        "print(df.shape)\n",
        "\n",
        "target = df.values[:,-1]\n",
        "counter = Counter(target)\n",
        "for k,v in counter.items():\n",
        "    per = v / len(target) * 50\n",
        "    print('Class=%s, Count=%d, Percentage=%.5f%%' % (k, v, per))\n",
        "\n",
        "set_option('precision', 5)\n",
        "print(df.describe())"
      ],
      "execution_count": null,
      "outputs": [
        {
          "output_type": "stream",
          "text": [
            "(336, 8)\n",
            "Class=cp, Count=143, Percentage=21.27976%\n",
            "Class=im, Count=77, Percentage=11.45833%\n",
            "Class=imS, Count=2, Percentage=0.29762%\n",
            "Class=imL, Count=2, Percentage=0.29762%\n",
            "Class=imU, Count=35, Percentage=5.20833%\n",
            "Class=om, Count=20, Percentage=2.97619%\n",
            "Class=omL, Count=5, Percentage=0.74405%\n",
            "Class=pp, Count=52, Percentage=7.73810%\n",
            "               0          1          2  ...          4          5          6\n",
            "count  336.00000  336.00000  336.00000  ...  336.00000  336.00000  336.00000\n",
            "mean     0.50006    0.50000    0.49548  ...    0.50003    0.50018    0.49973\n",
            "std      0.19463    0.14816    0.08850  ...    0.12238    0.21575    0.20941\n",
            "min      0.00000    0.16000    0.48000  ...    0.00000    0.03000    0.00000\n",
            "25%      0.34000    0.40000    0.48000  ...    0.42000    0.33000    0.35000\n",
            "50%      0.50000    0.47000    0.48000  ...    0.49500    0.45500    0.43000\n",
            "75%      0.66250    0.57000    0.48000  ...    0.57000    0.71000    0.71000\n",
            "max      0.89000    1.00000    1.00000  ...    0.88000    1.00000    0.99000\n",
            "\n",
            "[8 rows x 7 columns]\n"
          ],
          "name": "stdout"
        }
      ]
    },
    {
      "cell_type": "code",
      "metadata": {
        "colab": {
          "base_uri": "https://localhost:8080/",
          "height": 281
        },
        "id": "VxTzTTiqIrDX",
        "outputId": "17afa831-bc0f-4167-ef71-7f2864fc50f3"
      },
      "source": [
        "df.hist(bins=25)\n",
        "pyplot.show()"
      ],
      "execution_count": null,
      "outputs": [
        {
          "output_type": "display_data",
          "data": {
            "image/png": "[encoded data removed]",
            "text/plain": [
              "<Figure size 432x288 with 9 Axes>"
            ]
          },
          "metadata": {
            "tags": [],
            "needs_background": "light"
          }
        }
      ]
    },
    {
      "cell_type": "code",
      "metadata": {
        "id": "VkxYWMFQJR04"
      },
      "source": [
        "def new_data(filename):\n",
        "  df = read_csv(filename, header=None)\n",
        "  df = df[df[7] != 'imS']\n",
        "  df = df[df[7] != 'imL']\n",
        "  data = df.values\n",
        "  X, y = data[:, :-1], data[:, -1]\n",
        "  y = LabelEncoder().fit_transform(y)\n",
        "  return X, y"
      ],
      "execution_count": null,
      "outputs": []
    },
    {
      "cell_type": "code",
      "metadata": {
        "id": "dOaHETuGJWBv"
      },
      "source": [
        "def evaluate_model(X, y, model):\n",
        "  cv = RepeatedStratifiedKFold(n_splits=5, n_repeats=3, random_state=1)\n",
        "  scores = cross_val_score(model, X, y, scoring='accuracy', cv=cv, n_jobs=-1)\n",
        "  return scores\n",
        " \n",
        "\n",
        "def get_models():\n",
        "  models, names = list(), list()\n",
        " \n",
        "  models.append(LinearDiscriminantAnalysis())\n",
        "  names.append('LDA')\n",
        "  \n",
        "  models.append(LinearSVC())\n",
        "  names.append('SVM')\n",
        "  \n",
        "  models.append(BaggingClassifier(n_estimators=1000))\n",
        "  names.append('BAG')\n",
        "  \n",
        "  models.append(RandomForestClassifier(n_estimators=1000))\n",
        "  names.append('RF')\n",
        "  \n",
        "  models.append(ExtraTreesClassifier(n_estimators=1000))\n",
        "  names.append('ET')\n",
        "  return models, names"
      ],
      "execution_count": null,
      "outputs": []
    },
    {
      "cell_type": "code",
      "metadata": {
        "id": "K0SSNyjtJabZ"
      },
      "source": [
        "X, y = load_dataset(full_path)\n",
        "\n",
        "models, names = get_models()\n",
        "results = list()\n",
        "\n",
        "for i in range(len(models)):\n",
        "  scores = evaluate_model(X, y, models[i])\n",
        "  results.append(scores)\n",
        "  print('>%s %.3f (%.3f)' % (names[i], mean(scores), std(scores)))\n",
        "\n",
        "pyplot.boxplot(results, labels=names, showmeans=True)\n",
        "pyplot.show()"
      ],
      "execution_count": null,
      "outputs": []
    },
    {
      "cell_type": "code",
      "metadata": {
        "id": "-XS9dHIXJjPT"
      },
      "source": [
        "from pandas import read_csv\n",
        "from sklearn.preprocessing import LabelEncoder\n",
        "from sklearn.ensemble import RandomForestClassifier\n",
        " \n",
        "def new_data(filename):\n",
        "  df = read_csv(filename, header=None)\n",
        "  df = df[df[7] != 'imS']\n",
        "  df = df[df[7] != 'imL']\n",
        "  data = df.values\n",
        "  X, y = data[:, :-1], data[:, -1]\n",
        "  le = LabelEncoder()\n",
        "  y = le.fit_transform(y)\n",
        "  return X, y, le\n",
        " \n",
        "\n",
        "filename = '/home/sumit/ecoli.csv'\n",
        "\n",
        "X, y, le = new_data(filename)\n",
        "\n",
        "model = RandomForestClassifier(n_estimators=1000)\n",
        "\n",
        "model.fit(X, y)\n",
        "\n",
        "# known class \"om\"\n",
        "row = [0.78,0.68,0.48,0.50,0.83,0.40,0.29]\n",
        "q = model.predict([row])\n",
        "l = le.inverse_transform(q)[0]\n",
        "print('>Predicted=%s (expected om)' % (l))\n",
        "\n",
        "# known class \"cp\"\n",
        "row = [0.49,0.29,0.48,0.50,0.56,0.24,0.35]\n",
        "q = model.predict([row])\n",
        "l = le.inverse_transform(q)[0]\n",
        "print('>Predicted=%s (expected cp)' % (l))\n",
        "\n",
        "# known class \"pp\"\n",
        "row = [0.74,0.49,0.48,0.50,0.42,0.54,0.36]\n",
        "q = model.predict([row])\n",
        "l = le.inverse_transform(q)[0]\n",
        "print('>Predicted=%s (expected pp)' % (l))\n",
        "\n",
        "# known class \"imU\"\n",
        "row = [0.72,0.42,0.48,0.50,0.65,0.77,0.79]\n",
        "q = model.predict([row])\n",
        "l = le.inverse_transform(q)[0]\n",
        "print('>Predicted=%s (expected imU)' % (l))\n",
        "\n",
        "# known class \"omL\"\n",
        "row = [0.77,0.57,1.00,0.50,0.37,0.54,0.0]\n",
        "q = model.predict([row])\n",
        "l = le.inverse_transform(q)[0]\n",
        "print('>Predicted=%s (expected omL)' % (l))\n",
        "\n",
        "# known class \"im\"\n",
        "row = [0.06,0.61,0.48,0.50,0.49,0.92,0.37]\n",
        "q = model.predict([row])\n",
        "l = le.inverse_transform(q)[0]\n",
        "print('>Predicted=%s (expected im)' % (l))"
      ],
      "execution_count": null,
      "outputs": []
    }
  ]
}